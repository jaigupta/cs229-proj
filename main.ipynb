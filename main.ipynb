{
 "metadata": {
  "language_info": {
   "codemirror_mode": {
    "name": "ipython",
    "version": 3
   },
   "file_extension": ".py",
   "mimetype": "text/x-python",
   "name": "python",
   "nbconvert_exporter": "python",
   "pygments_lexer": "ipython3",
   "version": "3.7.3-final"
  },
  "orig_nbformat": 2,
  "kernelspec": {
   "name": "python37364bitab97371ca85549a9b9398ef635c2ed26",
   "display_name": "Python 3.7.3 64-bit"
  }
 },
 "nbformat": 4,
 "nbformat_minor": 2,
 "cells": [
  {
   "cell_type": "code",
   "execution_count": 1,
   "metadata": {},
   "outputs": [
    {
     "output_type": "stream",
     "name": "stdout",
     "text": [
      "{'10', '16', '17', '15', '13'}\n"
     ]
    }
   ],
   "source": [
    "import tensorflow as tf\n",
    "import os\n",
    "\n",
    "BASE_PATH = '/Users/jaigupta/projects/cs229-proj/'\n",
    "DS_PATH = BASE_PATH + 'dataset/'\n",
    "\n",
    "all_files = os.listdir(BASE_PATH + 'dataset/sample')\n",
    "patient_ids = {file_name.split('_')[0] for file_name in all_files}\n",
    "\n",
    "print(patient_ids)"
   ]
  },
  {
   "cell_type": "code",
   "execution_count": 20,
   "metadata": {},
   "outputs": [
    {
     "output_type": "execute_result",
     "data": {
      "text/plain": [
       "             image  level\n",
       "0          10_left      0\n",
       "1         10_right      0\n",
       "2          13_left      0\n",
       "3         13_right      0\n",
       "4          15_left      1\n",
       "5         15_right      2\n",
       "6          16_left      4\n",
       "7         16_right      4\n",
       "8          17_left      0\n",
       "9         17_right      1\n",
       "10         19_left      0\n",
       "11        19_right      0\n",
       "12         20_left      0\n",
       "13        20_right      0\n",
       "14         21_left      0\n",
       "15        21_right      0\n",
       "16         22_left      0\n",
       "17        22_right      0\n",
       "18         23_left      0\n",
       "19        23_right      0\n",
       "20         25_left      0\n",
       "21        25_right      0\n",
       "22         30_left      1\n",
       "23        30_right      2\n",
       "24         31_left      0\n",
       "25        31_right      0\n",
       "26         33_left      0\n",
       "27        33_right      0\n",
       "28         36_left      1\n",
       "29        36_right      0\n",
       "...            ...    ...\n",
       "35096   44317_left      0\n",
       "35097  44317_right      0\n",
       "35098   44323_left      1\n",
       "35099  44323_right      1\n",
       "35100   44325_left      0\n",
       "35101  44325_right      0\n",
       "35102   44327_left      0\n",
       "35103  44327_right      0\n",
       "35104   44328_left      0\n",
       "35105  44328_right      1\n",
       "35106   44330_left      0\n",
       "35107  44330_right      0\n",
       "35108   44331_left      0\n",
       "35109  44331_right      0\n",
       "35110   44334_left      0\n",
       "35111  44334_right      0\n",
       "35112   44337_left      1\n",
       "35113  44337_right      0\n",
       "35114   44338_left      0\n",
       "35115  44338_right      0\n",
       "35116   44339_left      0\n",
       "35117  44339_right      0\n",
       "35118   44343_left      0\n",
       "35119  44343_right      0\n",
       "35120   44347_left      0\n",
       "35121  44347_right      0\n",
       "35122   44348_left      0\n",
       "35123  44348_right      0\n",
       "35124   44349_left      0\n",
       "35125  44349_right      1\n",
       "\n",
       "[35126 rows x 2 columns]"
      ],
      "text/html": "<div>\n<style scoped>\n    .dataframe tbody tr th:only-of-type {\n        vertical-align: middle;\n    }\n\n    .dataframe tbody tr th {\n        vertical-align: top;\n    }\n\n    .dataframe thead th {\n        text-align: right;\n    }\n</style>\n<table border=\"1\" class=\"dataframe\">\n  <thead>\n    <tr style=\"text-align: right;\">\n      <th></th>\n      <th>image</th>\n      <th>level</th>\n    </tr>\n  </thead>\n  <tbody>\n    <tr>\n      <th>0</th>\n      <td>10_left</td>\n      <td>0</td>\n    </tr>\n    <tr>\n      <th>1</th>\n      <td>10_right</td>\n      <td>0</td>\n    </tr>\n    <tr>\n      <th>2</th>\n      <td>13_left</td>\n      <td>0</td>\n    </tr>\n    <tr>\n      <th>3</th>\n      <td>13_right</td>\n      <td>0</td>\n    </tr>\n    <tr>\n      <th>4</th>\n      <td>15_left</td>\n      <td>1</td>\n    </tr>\n    <tr>\n      <th>5</th>\n      <td>15_right</td>\n      <td>2</td>\n    </tr>\n    <tr>\n      <th>6</th>\n      <td>16_left</td>\n      <td>4</td>\n    </tr>\n    <tr>\n      <th>7</th>\n      <td>16_right</td>\n      <td>4</td>\n    </tr>\n    <tr>\n      <th>8</th>\n      <td>17_left</td>\n      <td>0</td>\n    </tr>\n    <tr>\n      <th>9</th>\n      <td>17_right</td>\n      <td>1</td>\n    </tr>\n    <tr>\n      <th>10</th>\n      <td>19_left</td>\n      <td>0</td>\n    </tr>\n    <tr>\n      <th>11</th>\n      <td>19_right</td>\n      <td>0</td>\n    </tr>\n    <tr>\n      <th>12</th>\n      <td>20_left</td>\n      <td>0</td>\n    </tr>\n    <tr>\n      <th>13</th>\n      <td>20_right</td>\n      <td>0</td>\n    </tr>\n    <tr>\n      <th>14</th>\n      <td>21_left</td>\n      <td>0</td>\n    </tr>\n    <tr>\n      <th>15</th>\n      <td>21_right</td>\n      <td>0</td>\n    </tr>\n    <tr>\n      <th>16</th>\n      <td>22_left</td>\n      <td>0</td>\n    </tr>\n    <tr>\n      <th>17</th>\n      <td>22_right</td>\n      <td>0</td>\n    </tr>\n    <tr>\n      <th>18</th>\n      <td>23_left</td>\n      <td>0</td>\n    </tr>\n    <tr>\n      <th>19</th>\n      <td>23_right</td>\n      <td>0</td>\n    </tr>\n    <tr>\n      <th>20</th>\n      <td>25_left</td>\n      <td>0</td>\n    </tr>\n    <tr>\n      <th>21</th>\n      <td>25_right</td>\n      <td>0</td>\n    </tr>\n    <tr>\n      <th>22</th>\n      <td>30_left</td>\n      <td>1</td>\n    </tr>\n    <tr>\n      <th>23</th>\n      <td>30_right</td>\n      <td>2</td>\n    </tr>\n    <tr>\n      <th>24</th>\n      <td>31_left</td>\n      <td>0</td>\n    </tr>\n    <tr>\n      <th>25</th>\n      <td>31_right</td>\n      <td>0</td>\n    </tr>\n    <tr>\n      <th>26</th>\n      <td>33_left</td>\n      <td>0</td>\n    </tr>\n    <tr>\n      <th>27</th>\n      <td>33_right</td>\n      <td>0</td>\n    </tr>\n    <tr>\n      <th>28</th>\n      <td>36_left</td>\n      <td>1</td>\n    </tr>\n    <tr>\n      <th>29</th>\n      <td>36_right</td>\n      <td>0</td>\n    </tr>\n    <tr>\n      <th>...</th>\n      <td>...</td>\n      <td>...</td>\n    </tr>\n    <tr>\n      <th>35096</th>\n      <td>44317_left</td>\n      <td>0</td>\n    </tr>\n    <tr>\n      <th>35097</th>\n      <td>44317_right</td>\n      <td>0</td>\n    </tr>\n    <tr>\n      <th>35098</th>\n      <td>44323_left</td>\n      <td>1</td>\n    </tr>\n    <tr>\n      <th>35099</th>\n      <td>44323_right</td>\n      <td>1</td>\n    </tr>\n    <tr>\n      <th>35100</th>\n      <td>44325_left</td>\n      <td>0</td>\n    </tr>\n    <tr>\n      <th>35101</th>\n      <td>44325_right</td>\n      <td>0</td>\n    </tr>\n    <tr>\n      <th>35102</th>\n      <td>44327_left</td>\n      <td>0</td>\n    </tr>\n    <tr>\n      <th>35103</th>\n      <td>44327_right</td>\n      <td>0</td>\n    </tr>\n    <tr>\n      <th>35104</th>\n      <td>44328_left</td>\n      <td>0</td>\n    </tr>\n    <tr>\n      <th>35105</th>\n      <td>44328_right</td>\n      <td>1</td>\n    </tr>\n    <tr>\n      <th>35106</th>\n      <td>44330_left</td>\n      <td>0</td>\n    </tr>\n    <tr>\n      <th>35107</th>\n      <td>44330_right</td>\n      <td>0</td>\n    </tr>\n    <tr>\n      <th>35108</th>\n      <td>44331_left</td>\n      <td>0</td>\n    </tr>\n    <tr>\n      <th>35109</th>\n      <td>44331_right</td>\n      <td>0</td>\n    </tr>\n    <tr>\n      <th>35110</th>\n      <td>44334_left</td>\n      <td>0</td>\n    </tr>\n    <tr>\n      <th>35111</th>\n      <td>44334_right</td>\n      <td>0</td>\n    </tr>\n    <tr>\n      <th>35112</th>\n      <td>44337_left</td>\n      <td>1</td>\n    </tr>\n    <tr>\n      <th>35113</th>\n      <td>44337_right</td>\n      <td>0</td>\n    </tr>\n    <tr>\n      <th>35114</th>\n      <td>44338_left</td>\n      <td>0</td>\n    </tr>\n    <tr>\n      <th>35115</th>\n      <td>44338_right</td>\n      <td>0</td>\n    </tr>\n    <tr>\n      <th>35116</th>\n      <td>44339_left</td>\n      <td>0</td>\n    </tr>\n    <tr>\n      <th>35117</th>\n      <td>44339_right</td>\n      <td>0</td>\n    </tr>\n    <tr>\n      <th>35118</th>\n      <td>44343_left</td>\n      <td>0</td>\n    </tr>\n    <tr>\n      <th>35119</th>\n      <td>44343_right</td>\n      <td>0</td>\n    </tr>\n    <tr>\n      <th>35120</th>\n      <td>44347_left</td>\n      <td>0</td>\n    </tr>\n    <tr>\n      <th>35121</th>\n      <td>44347_right</td>\n      <td>0</td>\n    </tr>\n    <tr>\n      <th>35122</th>\n      <td>44348_left</td>\n      <td>0</td>\n    </tr>\n    <tr>\n      <th>35123</th>\n      <td>44348_right</td>\n      <td>0</td>\n    </tr>\n    <tr>\n      <th>35124</th>\n      <td>44349_left</td>\n      <td>0</td>\n    </tr>\n    <tr>\n      <th>35125</th>\n      <td>44349_right</td>\n      <td>1</td>\n    </tr>\n  </tbody>\n</table>\n<p>35126 rows × 2 columns</p>\n</div>"
     },
     "metadata": {},
     "execution_count": 20
    }
   ],
   "source": [
    "import pandas as pd\n",
    "retina_df = pd.read_csv(BASE_PATH + 'dataset/trainLabels.csv.zip')\n"
   ]
  },
  {
   "cell_type": "code",
   "execution_count": 26,
   "metadata": {},
   "outputs": [],
   "source": [
    "patient_ids = retina_df['image'].map(lambda v: v.split('_')[0])\n",
    "patient_ids = set(patient_ids.to_list())\n",
    "left_image_format = '%s_left.jpeg'\n",
    "right_image_format = '%s_right.jpeg'"
   ]
  },
  {
   "cell_type": "code",
   "execution_count": 19,
   "metadata": {},
   "outputs": [
    {
     "output_type": "execute_result",
     "data": {
      "text/plain": [
       "['sample.zip',\n",
       " 'sampleSubmission.csv.zip',\n",
       " 'test.zip.001',\n",
       " 'test.zip.002',\n",
       " 'test.zip.003',\n",
       " 'test.zip.004',\n",
       " 'test.zip.005',\n",
       " 'test.zip.006',\n",
       " 'test.zip.007',\n",
       " 'train.zip.001',\n",
       " 'train.zip.002',\n",
       " 'train.zip.003',\n",
       " 'train.zip.004',\n",
       " 'train.zip.005',\n",
       " 'trainLabels.csv.zip']"
      ]
     },
     "metadata": {},
     "execution_count": 19
    }
   ],
   "source": [
    "import zipfile\n",
    "all_zip = zipfile.ZipFile('dataset/diabetic-retinopathy-detection.zip', 'r')\n",
    "# train_01_zip = zipfile.ZipFile('dataset/train.zip.001', 'r')\n",
    "# train_01_zip\n",
    "all_zip.namelist()\n"
   ]
  },
  {
   "cell_type": "code",
   "execution_count": null,
   "metadata": {},
   "outputs": [],
   "source": [
    "import matplotlib.pyplot as plt\n",
    "import os\n",
    "\n",
    "def show_image(patient_id):\n",
    "    files = list(filter(lambda f: f.startswith(patient_id+'_'), os.listdir()))\n",
    "    files.sort()\n",
    "    left_image = files[0]\n",
    "    right_image = files[1]\n",
    "    plt.show_image()\n",
    "\n",
    "base_image_dir = os.path.join('..', 'input', 'diabetic-retinopathy-detection')\n",
    "retina_df = pd.read_csv(os.path.join(base_image_dir, 'trainLabels.csv.zip'))\n",
    "retina_df['PatientId'] = retina_df['image'].map(lambda x: x.split('_')[0])\n",
    "retina_df['path'] = retina_df['image'].map(lambda x: os.path.join(base_image_dir,\n",
    "                                                         'train.zip.001/{}.jpeg'.format(x)))\n",
    "retina_df['exists'] = retina_df['path'].map(os.path.exists)\n",
    "print(retina_df['exists'].sum(), 'images found of', retina_df.shape[0], 'total')\n",
    "retina_df['eye'] = retina_df['image'].map(lambda x: 1 if x.split('_')[-1]=='left' else 0)\n",
    "from keras.utils.np_utils import to_categorical\n",
    "retina_df['level_cat'] = retina_df['level'].map(\n",
    "    lambda x: to_categorical(x, 1+retina_df['level'].max()))\n",
    "\n",
    "retina_df.dropna(inplace = True)\n",
    "retina_df = retina_df[retina_df['exists']]\n",
    "retina_df.sample(3)"
   ]
  }
 ]
}